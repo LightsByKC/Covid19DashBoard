{
 "cells": [
  {
   "cell_type": "markdown",
   "metadata": {},
   "source": [
    "[DIY Covid-19 Dashboard Kit](https://github.com/fsmeraldi/diy-covid19dash) (C) Fabrizio Smeraldi, 2020 ([f.smeraldi@qmul.ac.uk](mailto:f.smeraldi@qmul.ac.uk) - [web](http://www.eecs.qmul.ac.uk/~fabri/)). This notebook is released under the [GNU GPLv3.0 or later](https://www.gnu.org/licenses/)."
   ]
  },
  {
   "cell_type": "markdown",
   "metadata": {},
   "source": [
    "# DIY Covid-19 Dashboard"
   ]
  },
  {
   "cell_type": "code",
   "execution_count": 1,
   "metadata": {},
   "outputs": [],
   "source": [
    "from IPython.display import clear_output\n",
    "import ipywidgets as wdg\n",
    "import pandas as pd\n",
    "import numpy as np\n",
    "import matplotlib.pyplot as plt\n",
    "import json\n",
    "from uk_covid19 import Cov19API #Imports all the libraries needed for the dashboard to function"
   ]
  },
  {
   "cell_type": "code",
   "execution_count": 2,
   "metadata": {},
   "outputs": [],
   "source": [
    "%matplotlib inline\n",
    "# make figures larger\n",
    "plt.rcParams['figure.dpi'] = 100"
   ]
  },
  {
   "cell_type": "markdown",
   "metadata": {},
   "source": [
    "## Load initial data from disk\n",
    "\n",
    "Initial data is being loaded from \"dummydata.json\". This data deliberately only includes the first year of the pandemic in order to demonstrate the functionality of the \"Fetch Data\" Widget which refreshes the API."
   ]
  },
  {
   "cell_type": "code",
   "execution_count": 3,
   "metadata": {},
   "outputs": [],
   "source": [
    "with open(\"dummydata.json\", \"rt\") as INFILE:\n",
    "    jsondata=json.load(INFILE) #Opens dummydata. Contains relevant information for the first year of the pandemic."
   ]
  },
  {
   "cell_type": "markdown",
   "metadata": {},
   "source": [
    "\n",
    "The data includes reported cases and reported deaths for the different nations that form the United Kingdom. The method of wrangling this data uses if elif statements with f strings to ensure that data that the data that meets certain conditions in the nation field are entered into the correct columns in the dataframe."
   ]
  },
  {
   "cell_type": "code",
   "execution_count": 4,
   "metadata": {},
   "outputs": [],
   "source": [
    "def parse_date(datestring):\n",
    "    \"\"\" Convert a date string into a pandas datetime object \"\"\"\n",
    "    return pd.to_datetime(datestring, format=\"%Y-%m-%d\")\n",
    "\n",
    "def wrangle_data(rawdata): #Will create DF of a dictionary\n",
    "    datalist=rawdata['data']#Dumps the .json file into a dictionary\n",
    "    dates=[dictionary['date'] for dictionary in datalist ]\n",
    "    dates.sort()#Sorts dates in order\n",
    "    index=pd.date_range(parse_date(dates[0]), parse_date(dates[-1]), freq='D')#Creates a range of dates to be used by the DataFrame\n",
    "    NationRateDF=pd.DataFrame(index=index, columns=['ENGcases', 'ENGdeaths','SCOcases','SCOdeaths','WALcases','WALdeaths','NIcases','NIdeaths'])#Create DataFrame\n",
    "    for entry in datalist:\n",
    "        date=parse_date(entry['date'])\n",
    "        if entry[\"nation\"]==\"England\":#Since the Nation data won't be plotted on the graph, this is the solution\n",
    "            for column in ['cases', 'deaths']:#These two data fields will be plotted as ENGcases and ENGdeaths\n",
    "                if pd.isna(NationRateDF.loc[date, f'ENG{column}']):#Uses f strings to insert the cases and deathts data into the relevant fields  \n",
    "                    value= float(entry[column]) if entry[column]!=None else 0.0 #Floats the data if it exists, otherwise enters 0.\n",
    "                    NationRateDF.loc[date, f'ENG{column}']=value #Enters the data into the DF\n",
    "        elif entry[\"nation\"]==\"Scotland\":\n",
    "            for column in ['cases', 'deaths']:\n",
    "                if pd.isna(NationRateDF.loc[date, f'SCO{column}']):  \n",
    "                    value= float(entry[column]) if entry[column]!=None else 0.0\n",
    "                    NationRateDF.loc[date, f'SCO{column}']=value\n",
    "        elif entry[\"nation\"]==\"Wales\":\n",
    "            for column in ['cases', 'deaths']:\n",
    "                if pd.isna(NationRateDF.loc[date, f'WAL{column}']):  \n",
    "                    value= float(entry[column]) if entry[column]!=None else 0.0\n",
    "                    NationRateDF.loc[date, f'WAL{column}']=value\n",
    "        elif entry[\"nation\"]==\"Northern Ireland\":\n",
    "            for column in ['cases', 'deaths']:\n",
    "                if pd.isna(NationRateDF.loc[date, f'NI{column}']):  \n",
    "                    value= float(entry[column]) if entry[column]!=None else 0.0\n",
    "                    NationRateDF.loc[date, f'NI{column}']=value\n",
    "    NationRateDF.fillna(0.0, inplace=True) #Fills in blanks with 0.\n",
    "    return NationRateDF\n",
    "\n",
    "# putting the wrangling code into a function allows it to be called again after refreshing the data through \n",
    "# the API. \n",
    "df=wrangle_data(jsondata) #Wrangles the data on launch of dashboard"
   ]
  },
  {
   "cell_type": "markdown",
   "metadata": {},
   "source": [
    "## Download current data"
   ]
  },
  {
   "cell_type": "markdown",
   "metadata": {},
   "source": [
    "This button will refresh the current data, then toggle the scale widget in oder to force the graph to redraw itself. It also saves the data from the API to a .JSON file titled \"NationRates\". This will be a new file the first time this is run."
   ]
  },
  {
   "cell_type": "code",
   "execution_count": 1,
   "metadata": {},
   "outputs": [],
   "source": [
    "def access_api():\n",
    "    filt = ['areaType=nation']\n",
    "    struct = {\n",
    "        \"nation\": \"areaName\",\n",
    "        \"date\": \"date\",\n",
    "        \"cases\": \"newCasesBySpecimenDateRollingRate\",\n",
    "        \"deaths\": \"newDailyNsoDeathsByDeathDate\"}\n",
    "    jsondata=Cov19API(filters=filt, structure=struct).get_json() #Retrieves the data from the API. Dumps to a new .JSON as well.\n",
    "    with open(\"NationRates.json\",\"wt\") as OUTF:\n",
    "        json.dump(jsondata, OUTF)\n",
    "    return jsondata\n",
    "    "
   ]
  },
  {
   "cell_type": "code",
   "execution_count": 2,
   "metadata": {},
   "outputs": [
    {
     "ename": "NameError",
     "evalue": "name 'wdg' is not defined",
     "output_type": "error",
     "traceback": [
      "\u001b[0;31m---------------------------------------------------------------------------\u001b[0m",
      "\u001b[0;31mNameError\u001b[0m                                 Traceback (most recent call last)",
      "Cell \u001b[0;32mIn[2], line 35\u001b[0m\n\u001b[1;32m     31\u001b[0m     apibutton\u001b[38;5;241m.\u001b[39micon\u001b[38;5;241m=\u001b[39m\u001b[38;5;124m\"\u001b[39m\u001b[38;5;124mcheck\u001b[39m\u001b[38;5;124m\"\u001b[39m\n\u001b[1;32m     32\u001b[0m     apibutton\u001b[38;5;241m.\u001b[39mdisabled\u001b[38;5;241m=\u001b[39m\u001b[38;5;28;01mTrue\u001b[39;00m\n\u001b[0;32m---> 35\u001b[0m apibutton\u001b[38;5;241m=\u001b[39m\u001b[43mwdg\u001b[49m\u001b[38;5;241m.\u001b[39mButton(\n\u001b[1;32m     36\u001b[0m     description\u001b[38;5;241m=\u001b[39m\u001b[38;5;124m'\u001b[39m\u001b[38;5;124mFetch Data\u001b[39m\u001b[38;5;124m'\u001b[39m, \u001b[38;5;66;03m# you may want to change this...\u001b[39;00m\n\u001b[1;32m     37\u001b[0m     disabled\u001b[38;5;241m=\u001b[39m\u001b[38;5;28;01mFalse\u001b[39;00m,\n\u001b[1;32m     38\u001b[0m     button_style\u001b[38;5;241m=\u001b[39m\u001b[38;5;124m'\u001b[39m\u001b[38;5;124mdanger\u001b[39m\u001b[38;5;124m'\u001b[39m, \u001b[38;5;66;03m# 'success', 'info', 'warning', 'danger' or ''\u001b[39;00m\n\u001b[1;32m     39\u001b[0m     tooltip\u001b[38;5;241m=\u001b[39m\u001b[38;5;124m\"\u001b[39m\u001b[38;5;124mPulls fresh data from the API. Saves it to NationRates.json\u001b[39m\u001b[38;5;124m\"\u001b[39m,\n\u001b[1;32m     40\u001b[0m     \u001b[38;5;66;03m# FontAwesome names without the `fa-` prefix - try \"download\"\u001b[39;00m\n\u001b[1;32m     41\u001b[0m     icon\u001b[38;5;241m=\u001b[39m\u001b[38;5;124m'\u001b[39m\u001b[38;5;124mexclamation-triangle\u001b[39m\u001b[38;5;124m'\u001b[39m\n\u001b[1;32m     42\u001b[0m )\n\u001b[1;32m     44\u001b[0m \u001b[38;5;66;03m# remember to register your button callback function with the button\u001b[39;00m\n\u001b[1;32m     45\u001b[0m apibutton\u001b[38;5;241m.\u001b[39mon_click(api_button_callback) \u001b[38;5;66;03m# the name of your function inside these brackets\u001b[39;00m\n",
      "\u001b[0;31mNameError\u001b[0m: name 'wdg' is not defined"
     ]
    }
   ],
   "source": [
    "def refresh_graph():#Forces the graph to redraw by toggling a widget\n",
    "    current=scale.value\n",
    "    if current==scale.options[0]:\n",
    "        other=scale.options[1]\n",
    "    else:\n",
    "        other=scale.options[0]\n",
    "    scale.value=other\n",
    "    scale.value=current\n",
    "\n",
    "def api_button_callback(button):\n",
    "    \"\"\" Button callback - it must take the button as its parameter (unused in this case).\n",
    "    Accesses API, wrangles data, updates global variable df used for plotting. \"\"\"\n",
    "    # Get fresh data from the API.\n",
    "    apidata=access_api()\n",
    "    # wrangles the data and overwrite the dataframe for plotting\n",
    "    global df\n",
    "    df=wrangle_data(apidata)\n",
    "    refresh_graph()\n",
    "    # after all is done, you can switch the icon on the button to a \"check\" sign\n",
    "    apibutton.icon=\"check\"\n",
    "    apibutton.disabled=True\n",
    "\n",
    "    \n",
    "apibutton=wdg.Button(\n",
    "    description='Fetch Data',\n",
    "    disabled=False,\n",
    "    button_style='danger', \n",
    "    tooltip=\"Pulls fresh data from the API. Saves it to NationRates.json\",\n",
    "    icon='exclamation-triangle'\n",
    ")\n",
    "\n",
    "apibutton.on_click(api_button_callback) #On click triggers the api_button_callback function\n",
    "\n",
    "display(apibutton)"
   ]
  },
  {
   "cell_type": "markdown",
   "metadata": {},
   "source": [
    "## Graphs and Analysis"
   ]
  },
  {
   "cell_type": "markdown",
   "metadata": {},
   "source": [
    "This graph represents the daily cases and deaths of each nation in the United Kingdom. Note that the graph will not display until at least one set of Nation Data is selected."
   ]
  },
  {
   "cell_type": "code",
   "execution_count": 7,
   "metadata": {},
   "outputs": [
    {
     "data": {
      "application/vnd.jupyter.widget-view+json": {
       "model_id": "e64b014282704f6b8f262dba1a8f5bd3",
       "version_major": 2,
       "version_minor": 0
      },
      "text/plain": [
       "HBox(children=(SelectMultiple(description='Nation Data:', options=('ENGcases', 'ENGdeaths', 'SCOcases', 'SCOde…"
      ]
     },
     "metadata": {},
     "output_type": "display_data"
    },
    {
     "data": {
      "application/vnd.jupyter.widget-view+json": {
       "model_id": "b08c542f318545b7a957c09b0e82e852",
       "version_major": 2,
       "version_minor": 0
      },
      "text/plain": [
       "Output()"
      ]
     },
     "metadata": {},
     "output_type": "display_data"
    }
   ],
   "source": [
    "def nationdata_graph(gcols, gscale):\n",
    "    if gscale=='linear':\n",
    "        logscale=False\n",
    "    else:\n",
    "        logscale=True\n",
    "    ncols=len(gcols)\n",
    "    if ncols>0:\n",
    "        df[list(gcols)].plot(logy=logscale)\n",
    "        plt.show() # important - graphs won't update if this is missing \n",
    "    else:\n",
    "        print(\"Click to select data for graph\")\n",
    "        print(\"(CTRL-Click to select more than one category)\")\n",
    "plots=wdg.SelectMultiple(#Allows selection of relevant data\n",
    "    options=['ENGcases','ENGdeaths','SCOcases','SCOdeaths','WALcases','WALdeaths','NIcases','NIdeaths'],\n",
    "    values=['ENGcases','ENGdeaths','SCOcases','SCOdeaths','WALcases','WALdeaths','NIcases','NIdeaths'],\n",
    "    rows=8,\n",
    "    description=\"Nation Data:\",\n",
    "    disabled=False\n",
    ")\n",
    "scale=wdg.RadioButtons(#Changes scale from linear to log\n",
    "    options=['linear', 'log'],\n",
    "    description='Scale:',\n",
    "    disabled=False\n",
    ")\n",
    "controls=wdg.HBox([plots, scale])\n",
    "graph=wdg.interactive_output(nationdata_graph, {'gcols': plots, 'gscale': scale})\n",
    "display(controls, graph)"
   ]
  },
  {
   "cell_type": "markdown",
   "metadata": {},
   "source": []
  },
  {
   "cell_type": "markdown",
   "metadata": {},
   "source": [
    "**Author and Copyright Notice** Created by Kieran Cockburn. Based on UK Government [data](https://coronavirus.data.gov.uk/) published by [Public Health England](https://www.gov.uk/government/organisations/public-health-england) and on the [DIY Covid Dashboard Kit](https://github.com/fsmeraldi/diy-covid19dash), Copyright (C) Fabrizio Smeraldi 2020,2023. Released under the [GNU GPLv3.0 or later](https://www.gnu.org/licenses/)."
   ]
  },
  {
   "cell_type": "code",
   "execution_count": null,
   "metadata": {},
   "outputs": [],
   "source": []
  },
  {
   "cell_type": "code",
   "execution_count": null,
   "metadata": {},
   "outputs": [],
   "source": []
  }
 ],
 "metadata": {
  "kernelspec": {
   "display_name": "Python 3 (ipykernel)",
   "language": "python",
   "name": "python3"
  },
  "language_info": {
   "codemirror_mode": {
    "name": "ipython",
    "version": 3
   },
   "file_extension": ".py",
   "mimetype": "text/x-python",
   "name": "python",
   "nbconvert_exporter": "python",
   "pygments_lexer": "ipython3",
   "version": "3.10.13"
  }
 },
 "nbformat": 4,
 "nbformat_minor": 4
}
